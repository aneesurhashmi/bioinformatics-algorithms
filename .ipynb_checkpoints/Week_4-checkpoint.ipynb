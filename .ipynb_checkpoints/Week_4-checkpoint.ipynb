{
 "cells": [
  {
   "cell_type": "markdown",
   "metadata": {},
   "source": [
    "# Randomized Motif Search"
   ]
  },
  {
   "cell_type": "code",
   "execution_count": 16,
   "metadata": {},
   "outputs": [],
   "source": [
    "import random\n",
    "import import_ipynb\n",
    "from Week_1 import *\n",
    "from Week_2 import *\n",
    "from Week_3 import *"
   ]
  },
  {
   "cell_type": "code",
   "execution_count": 26,
   "metadata": {
    "scrolled": false
   },
   "outputs": [
    {
     "name": "stdout",
     "output_type": "stream",
     "text": [
      "0.01331491100063431\n",
      "0.10689937099959934\n",
      "0.8769331029998284\n",
      "9.138953137000499\n",
      "97.54763462399933\n"
     ]
    }
   ],
   "source": [
    "def randomize_motif_search(dna, k, t, times = 1000):\n",
    "    def one_randomize_motif_search(dna,k,t):\n",
    "        random_motifs = []\n",
    "        # select random motifs from each dna string\n",
    "        for dna_str in dna:\n",
    "            rndom_pos = random.choice(range(len(dna[0])-k))\n",
    "            random_motifs.append(dna_str[rndom_pos:rndom_pos+k])\n",
    "        best_motifs = random_motifs\n",
    "        while True:\n",
    "            profile = profile_gen(best_motifs)\n",
    "            motifs = get_motifs(dna,profile)\n",
    "            if score(motifs) < score(best_motifs):\n",
    "                best_motifs = motifs\n",
    "            else:\n",
    "                return best_motifs\n",
    "    # repeat the process again and again to get best resutls\n",
    "    ans = [one_randomize_motif_search(dna,k,t) for _ in range(times)]\n",
    "    # return the best motifs\n",
    "    l  = []\n",
    "    score_i = k*t\n",
    "    for i in ans:\n",
    "        if score(i) < score_i:\n",
    "            l = i\n",
    "            score_i = score(i)\n",
    "    return l\n",
    "\n",
    "dns = \"\"\"CGCCCCTCTCGGGGGTGTTCAGTAAACGGCCA\n",
    "GGGCGAGGTATGTGTAAGTGCCAAGGTGCCAG\n",
    "TAGTACCGAGACCGAAAGAAGTATACAGGCGT\n",
    "TAGATCAAGTTTCAGGTGCACGTCGGTGAACC\n",
    "AATCCACCAGCTCCACGTGCAATGTTGGCCTA\"\"\".split(\"\\n\")\n",
    "\n",
    "# tn tn tn..... efficiency test time\n",
    "# import timeit\n",
    "# print(timeit.timeit(lambda: randomize_motif_search(dns, 8,5, times=10), number = 1))\n",
    "# print(timeit.timeit(lambda: randomize_motif_search(dns, 8,5, times=100), number = 1))\n",
    "# print(timeit.timeit(lambda: randomize_motif_search(dns, 8,5, times=1000), number = 1))\n",
    "# print(timeit.timeit(lambda: randomize_motif_search(dns, 8,5, times=10000), number = 1))\n",
    "# print(timeit.timeit(lambda: randomize_motif_search(dns, 8,5, times=100000), number = 1))"
   ]
  }
 ],
 "metadata": {
  "kernelspec": {
   "display_name": "Python 3",
   "language": "python",
   "name": "python3"
  },
  "language_info": {
   "codemirror_mode": {
    "name": "ipython",
    "version": 3
   },
   "file_extension": ".py",
   "mimetype": "text/x-python",
   "name": "python",
   "nbconvert_exporter": "python",
   "pygments_lexer": "ipython3",
   "version": "3.7.3"
  }
 },
 "nbformat": 4,
 "nbformat_minor": 4
}
