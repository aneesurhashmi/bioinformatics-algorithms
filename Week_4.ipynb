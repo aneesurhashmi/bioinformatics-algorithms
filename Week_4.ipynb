{
 "cells": [
  {
   "cell_type": "markdown",
   "metadata": {},
   "source": [
    "# Randomized Motif Search"
   ]
  },
  {
   "cell_type": "code",
   "execution_count": 1,
   "metadata": {},
   "outputs": [
    {
     "name": "stdout",
     "output_type": "stream",
     "text": [
      "importing Jupyter notebook from Week_1.ipynb\n",
      "116556 149355 151913 152013 152394 186189 194276 200076 224527 307692 479770 610980 653338 679985 768828 878903 985368 importing Jupyter notebook from Week_2.ipynb\n",
      "Defaulting to user installation because normal site-packages is not writeable\n",
      "Requirement already satisfied: import-ipynb in /home/aneeshashmi/.local/lib/python3.7/site-packages (0.1.3)\n",
      "importing Jupyter notebook from Week_3.ipynb\n"
     ]
    }
   ],
   "source": [
    "import random\n",
    "import import_ipynb\n",
    "from Week_1 import *\n",
    "from Week_2 import *\n",
    "from Week_3 import *"
   ]
  },
  {
   "cell_type": "code",
   "execution_count": 137,
   "metadata": {
    "scrolled": false
   },
   "outputs": [],
   "source": [
    "def randomize_motif_search(dna, k, t, times = 1000):\n",
    "    def one_randomize_motif_search(dna,k,t):\n",
    "        random_motifs = []\n",
    "        # select random motifs from each dna string\n",
    "        for dna_str in dna:\n",
    "            rndom_pos = random.choice(range(len(dna[0])-k))\n",
    "            random_motifs.append(dna_str[rndom_pos:rndom_pos+k])\n",
    "        best_motifs = random_motifs\n",
    "        while True:\n",
    "            profile = profile_gen(best_motifs)\n",
    "            motifs = get_motifs(dna,profile)\n",
    "            if score(motifs) < score(best_motifs):\n",
    "                best_motifs = motifs\n",
    "            else:\n",
    "                return best_motifs\n",
    "    # repeat the process again and again to get best resutls\n",
    "    ans = [one_randomize_motif_search(dna,k,t) for _ in range(times)]\n",
    "    # return the best motifs\n",
    "    l  = []\n",
    "    score_i = k*t\n",
    "    for i in ans:\n",
    "        if score(i) < score_i:\n",
    "            l = i\n",
    "            score_i = score(i)\n",
    "    return l\n",
    "\n",
    "dns = \"\"\"CGCCCCTCTCGGGGGTGTTCAGTAAACGGCCA\n",
    "GGGCGAGGTATGTGTAAGTGCCAAGGTGCCAG\n",
    "TAGTACCGAGACCGAAAGAAGTATACAGGCGT\n",
    "TAGATCAAGTTTCAGGTGCACGTCGGTGAACC\n",
    "AATCCACCAGCTCCACGTGCAATGTTGGCCTA\"\"\".split(\"\\n\")\n",
    "\n",
    "# tn tn tn..... efficiency test time\n",
    "# import timeit\n",
    "# print(timeit.timeit(lambda: randomize_motif_search(dns, 8,5, times=10), number = 1))\n",
    "# print(timeit.timeit(lambda: randomize_motif_search(dns, 8,5, times=100), number = 1))\n",
    "# print(timeit.timeit(lambda: randomize_motif_search(dns, 8,5, times=1000), number = 1))\n",
    "# print(timeit.timeit(lambda: randomize_motif_search(dns, 8,5, times=10000), number = 1))\n",
    "# print(timeit.timeit(lambda: randomize_motif_search(dns, 8,5, times=100000), number = 1))"
   ]
  },
  {
   "cell_type": "markdown",
   "metadata": {},
   "source": [
    "## Advance/Biased Random Number Generator\n",
    "we will need a slightly more advanced random number generator. Given a probability distribution (p1, …, pn), this random number generator, denoted Random(p1, …, pn), models an n-sided biased die and returns integer i with probability pi. For example, the standard six-sided fair die represents the random number generator Random(1/6, 1/6, 1/6, 1/6, 1/6, 1/6), whereas a biased die might represent the random number generator Random(0.1, 0.2, 0.3, 0.05, 0.1, 0.25)."
   ]
  },
  {
   "cell_type": "code",
   "execution_count": 171,
   "metadata": {},
   "outputs": [],
   "source": [
    "# input: array of probablities\n",
    "# returns a biased random index number according to the input set of probablities\n",
    "def random_number(pr):\n",
    "    import random\n",
    "    return random.choices(range(len(pr)), weights = tuple(pr))[0]\n",
    "\n",
    "# find probablity of a pattern according to a profile\n",
    "def find_probablity(pattern, profile):\n",
    "    probablity = 1\n",
    "    count = {\"A\":0, \"C\":1, \"G\":2,\"T\":3}\n",
    "    for i in range(len(pattern)):\n",
    "        nc_i = count[pattern[i]]\n",
    "        probablity *= profile[nc_i][i]\n",
    "    return probablity\n",
    "\n",
    "# returns a k-mer in a dna string: probablity according to the profile\n",
    "def profile_random_kmer(dna_str, profile, k):\n",
    "    prob = []\n",
    "    for i in range(len(dna_str) - k+1):\n",
    "        prob.append(find_probablity(dna_str[i:i+k], profile))\n",
    "    rndm_i = random_number(prob)\n",
    "    return dna_str[rndm_i:rndm_i+k]"
   ]
  },
  {
   "cell_type": "markdown",
   "metadata": {},
   "source": [
    "## Gibbs Sampler\n",
    "Returns the best possible k-mer Motifs in each (t) string of dna"
   ]
  },
  {
   "cell_type": "code",
   "execution_count": 232,
   "metadata": {
    "scrolled": false
   },
   "outputs": [],
   "source": [
    "def gibbs_sampler(dna, k, t, n, ittr = 100):\n",
    "    import random\n",
    "    def gibbs_inner_ittr(dna, k, t, n):\n",
    "        random_motifs = []\n",
    "        # select random motifs from each dna string\n",
    "        for dna_str in dna:\n",
    "            rndom_pos = random.choice(range(len(dna[0])-k))\n",
    "            random_motifs.append(dna_str[rndom_pos:rndom_pos+k])\n",
    "        best_motifs = random_motifs\n",
    "        for j in range(1,n):\n",
    "            i = random.choice(range(t))\n",
    "            motifs_exc_i = [i for i in best_motifs]\n",
    "            motifs_exc_i.pop(i)\n",
    "            profile = profile_gen(motifs_exc_i)\n",
    "            motif_i = profile_random_kmer(dna[i], profile, k)\n",
    "            motifs_exc_i.insert(i, motif_i)\n",
    "            if score(motifs_exc_i) < score(best_motifs):\n",
    "                best_motifs = motifs_exc_i\n",
    "        return best_motifs\n",
    "    all_motifs = [gibbs_inner_ittr(dna, k, t, n) for _ in range(ittr)]\n",
    "    best_motifs = []\n",
    "    ref_score = k**k\n",
    "    for i in all_motifs:\n",
    "        if score(i) < ref_score:\n",
    "            best_motifs = i\n",
    "            ref_score = score(i)\n",
    "    return best_motifs\n",
    "\n",
    "dnaa = \"\"\"GCGCCCCGCCCGGACAGCCATGCGCTAACCCTGGCTTCGATGGCGCCGGCTCAGTTAGGGCCGGAAGTCCCCAATGTGGCAGACCTTTCGCCCCTGGCGGACGAATGACCCCAGTGGCCGGGACTTCAGGCCCTATCGGAGGGCTCCGGCGCGGTGGTCGGATTTGTCTGTGGAGGTTACACCCCAATCGCAAGGATGCATTATGACCAGCGAGCTGAGCCTGGTCGCCACTGGAAAGGGGAGCAACATC\n",
    "CCGATCGGCATCACTATCGGTCCTGCGGCCGCCCATAGCGCTATATCCGGCTGGTGAAATCAATTGACAACCTTCGACTTTGAGGTGGCCTACGGCGAGGACAAGCCAGGCAAGCCAGCTGCCTCAACGCGCGCCAGTACGGGTCCATCGACCCGCGGCCCACGGGTCAAACGACCCTAGTGTTCGCTACGACGTGGTCGTACCTTCGGCAGCAGATCAGCAATAGCACCCCGACTCGAGGAGGATCCCG\n",
    "ACCGTCGATGTGCCCGGTCGCGCCGCGTCCACCTCGGTCATCGACCCCACGATGAGGACGCCATCGGCCGCGACCAAGCCCCGTGAAACTCTGACGGCGTGCTGGCCGGGCTGCGGCACCTGATCACCTTAGGGCACTTGGGCCACCACAACGGGCCGCCGGTCTCGACAGTGGCCACCACCACACAGGTGACTTCCGGCGGGACGTAAGTCCCTAACGCGTCGTTCCGCACGCGGTTAGCTTTGCTGCC\n",
    "GGGTCAGGTATATTTATCGCACACTTGGGCACATGACACACAAGCGCCAGAATCCCGGACCGAACCGAGCACCGTGGGTGGGCAGCCTCCATACAGCGATGACCTGATCGATCATCGGCCAGGGCGCCGGGCTTCCAACCGTGGCCGTCTCAGTACCCAGCCTCATTGACCCTTCGACGCATCCACTGCGCGTAAGTCGGCTCAACCCTTTCAAACCGCTGGATTACCGACCGCAGAAAGGGGGCAGGAC\n",
    "GTAGGTCAAACCGGGTGTACATACCCGCTCAATCGCCCAGCACTTCGGGCAGATCACCGGGTTTCCCCGGTATCACCAATACTGCCACCAAACACAGCAGGCGGGAAGGGGCGAAAGTCCCTTATCCGACAATAAAACTTCGCTTGTTCGACGCCCGGTTCACCCGATATGCACGGCGCCCAGCCATTCGTGACCGACGTCCCCAGCCCCAAGGCCGAACGACCCTAGGAGCCACGAGCAATTCACAGCG\n",
    "CCGCTGGCGACGCTGTTCGCCGGCAGCGTGCGTGACGACTTCGAGCTGCCCGACTACACCTGGTGACCACCGCCGACGGGCACCTCTCCGCCAGGTAGGCACGGTTTGTCGCCGGCAATGTGACCTTTGGGCGCGGTCTTGAGGACCTTCGGCCCCACCCACGAGGCCGCCGCCGGCCGATCGTATGACGTGCAATGTACGCCATAGGGTGCGTGTTACGGCGATTACCTGAAGGCGGCGGTGGTCCGGA\n",
    "GGCCAACTGCACCGCGCTCTTGATGACATCGGTGGTCACCATGGTGTCCGGCATGATCAACCTCCGCTGTTCGATATCACCCCGATCTTTCTGAACGGCGGTTGGCAGACAACAGGGTCAATGGTCCCCAAGTGGATCACCGACGGGCGCGGACAAATGGCCCGCGCTTCGGGGACTTCTGTCCCTAGCCCTGGCCACGATGGGCTGGTCGGATCAAAGGCATCCGTTTCCATCGATTAGGAGGCATCAA\n",
    "GTACATGTCCAGAGCGAGCCTCAGCTTCTGCGCAGCGACGGAAACTGCCACACTCAAAGCCTACTGGGCGCACGTGTGGCAACGAGTCGATCCACACGAAATGCCGCCGTTGGGCCGCGGACTAGCCGAATTTTCCGGGTGGTGACACAGCCCACATTTGGCATGGGACTTTCGGCCCTGTCCGCGTCCGTGTCGGCCAGACAAGCTTTGGGCATTGGCCACAATCGGGCCACAATCGAAAGCCGAGCAG\n",
    "GGCAGCTGTCGGCAACTGTAAGCCATTTCTGGGACTTTGCTGTGAAAAGCTGGGCGATGGTTGTGGACCTGGACGAGCCACCCGTGCGATAGGTGAGATTCATTCTCGCCCTGACGGGTTGCGTCTGTCATCGGTCGATAAGGACTAACGGCCCTCAGGTGGGGACCAACGCCCCTGGGAGATAGCGGTCCCCGCCAGTAACGTACCGCTGAACCGACGGGATGTATCCGCCCCAGCGAAGGAGACGGCG\n",
    "TCAGCACCATGACCGCCTGGCCACCAATCGCCCGTAACAAGCGGGACGTCCGCGACGACGCGTGCGCTAGCGCCGTGGCGGTGACAACGACCAGATATGGTCCGAGCACGCGGGCGAACCTCGTGTTCTGGCCTCGGCCAGTTGTGTAGAGCTCATCGCTGTCATCGAGCGATATCCGACCACTGATCCAAGTCGGGGGCTCTGGGGACCGAAGTCCCCGGGCTCGGAGCTATCGGACCTCACGATCACC\"\"\".split(\"\\n\")\n",
    "# for k in range(8,21):\n",
    "#     ans = gibbs_sampler(dnaa, k, 10, 200, ittr = 2000)\n",
    "#     print(f\"k:{k}, score: {score(ans)}\")\n",
    "#     print(f\"Consensus: {consensus(ans)}\")"
   ]
  },
  {
   "cell_type": "code",
   "execution_count": null,
   "metadata": {},
   "outputs": [],
   "source": []
  }
 ],
 "metadata": {
  "kernelspec": {
   "display_name": "Python 3",
   "language": "python",
   "name": "python3"
  },
  "language_info": {
   "codemirror_mode": {
    "name": "ipython",
    "version": 3
   },
   "file_extension": ".py",
   "mimetype": "text/x-python",
   "name": "python",
   "nbconvert_exporter": "python",
   "pygments_lexer": "ipython3",
   "version": "3.7.3"
  }
 },
 "nbformat": 4,
 "nbformat_minor": 4
}
