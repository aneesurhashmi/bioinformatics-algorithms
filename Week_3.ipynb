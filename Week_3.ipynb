{
 "cells": [
  {
   "cell_type": "markdown",
   "metadata": {},
   "source": [
    "# Finding the Regulatory Regions/Genes\n",
    "\n",
    "LHY, CCA1, and TOC1 are able to control the transcription of other genes because the regulatory proteins that they encode are transcription factors, or master regulatory proteins that turn other genes on and off. A transcription factor regulates a gene by binding to a specific short DNA interval called a regulatory motif, or transcription factor binding site, in the gene's upstream region, a 600-1000 nucleotide-long region preceding the start of the gene. For example, CCA1 binds to AAAAAATCT in the upstream region of many genes regulated by CCA1.\n",
    "\n",
    "The life of a bioinformatician would be easy if regulatory motifs were completely conserved, but the reality is more complex, as regulatory motifs may vary at some positions, e.g., CCA1 may instead bind to AAGAACTCT. But how can we locate these regulatory motifs without knowing what they look like in advance? We need to develop algorithms for motif finding, the problem of discovering a “hidden message” shared by a collection of strings."
   ]
  },
  {
   "cell_type": "code",
   "execution_count": 5,
   "metadata": {},
   "outputs": [],
   "source": [
    "import import_ipynb\n",
    "from Week_1 import *\n",
    "from Week_2 import *"
   ]
  },
  {
   "cell_type": "markdown",
   "metadata": {},
   "source": [
    "## A brute force algorithm for motif finding\n",
    "Given a collection of strings Dna and an integer d, a k-mer is a (k,d)-motif if it appears in every string from Dna with at most d mismatches. For example, the implanted 15-mer in the strings above represents a (15,4)-motif.\n",
    "\n",
    "Implanted Motif Problem: Find all (k, d)-motifs in a collection of strings.\n",
    "\n",
    "Input: A collection of strings Dna, and integers k and d.\n",
    "Output: All (k, d)-motifs in Dna.\n",
    "Brute force (also known as exhaustive search) is a general problem-solving technique that explores all possible solution candidates and checks whether each candidate solves the problem. Such algorithms require little effort to design and are guaranteed to produce a correct solution, but they may take an enormous amount of time, and the number of candidates may be too large to check."
   ]
  },
  {
   "cell_type": "code",
   "execution_count": 52,
   "metadata": {},
   "outputs": [],
   "source": [
    "def motif_enumeration(dna, k, d):\n",
    "    patterns =[]\n",
    "    first_str = dna.split(\" \")[0]\n",
    "    for i in range(len(first_str)- k+1):\n",
    "        kmer = first_str[i:i+k]\n",
    "        # 1st str's kmer neighbors\n",
    "        for kmer_nbr in  neighbors(kmer, d):\n",
    "            found_in_all = True\n",
    "            # look in each dna str\n",
    "            for dna_str in dna.split(\" \"):\n",
    "                # look in each dna str for kmer neighbor with atleast d mismatches\n",
    "                found = False\n",
    "                for j in range(len(dna_str)-k+1):\n",
    "                    if hamming_distance(kmer_nbr, dna_str[j:j+k]) <= d:\n",
    "                        # if found: look in next dna_str\n",
    "                        found = True\n",
    "                        break\n",
    "                # if kmer is not found in any of the dna_strs, look for next kmer\n",
    "                if found == False:\n",
    "                    found_in_all = False\n",
    "                    break\n",
    "            if found_in_all == True:\n",
    "                patterns.append(kmer_nbr)\n",
    "    return list(set(patterns))\n",
    "\n",
    "dna = \"GCTCTTAATCAGGATTCGGTCTCTA AATGCCTCTACCCTGGACCAAAGTT CATAGCTGTAGTGCCGCCGTTTTAT CTCTATGAATCTTTAAGCCTGAGCG CTGTAGTTGGCGTGGTAGCGTGGCC CGCTGGTAGGAGATCCTATAGAAGC\"\n",
    "# for i in motif_enumeration(dna, 5, 1):\n",
    "#     print(i , end = \" \")"
   ]
  },
  {
   "cell_type": "code",
   "execution_count": null,
   "metadata": {},
   "outputs": [],
   "source": []
  },
  {
   "cell_type": "code",
   "execution_count": null,
   "metadata": {},
   "outputs": [],
   "source": []
  }
 ],
 "metadata": {
  "kernelspec": {
   "display_name": "Python 3",
   "language": "python",
   "name": "python3"
  },
  "language_info": {
   "codemirror_mode": {
    "name": "ipython",
    "version": 3
   },
   "file_extension": ".py",
   "mimetype": "text/x-python",
   "name": "python",
   "nbconvert_exporter": "python",
   "pygments_lexer": "ipython3",
   "version": "3.7.3"
  }
 },
 "nbformat": 4,
 "nbformat_minor": 4
}
